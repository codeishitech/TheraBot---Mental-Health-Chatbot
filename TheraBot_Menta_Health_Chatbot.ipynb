{
  "nbformat": 4,
  "nbformat_minor": 0,
  "metadata": {
    "colab": {
      "provenance": [],
      "toc_visible": true,
      "authorship_tag": "ABX9TyPkk8nVifev+qhIyEB+wUJ0",
      "include_colab_link": true
    },
    "kernelspec": {
      "name": "python3",
      "display_name": "Python 3"
    },
    "language_info": {
      "name": "python"
    }
  },
  "cells": [
    {
      "cell_type": "markdown",
      "metadata": {
        "id": "view-in-github",
        "colab_type": "text"
      },
      "source": [
        "<a href=\"https://colab.research.google.com/github/codeishitech/TheraBot---Mental-Health-Chatbot/blob/main/TheraBot_Menta_Health_Chatbot.ipynb\" target=\"_parent\"><img src=\"https://colab.research.google.com/assets/colab-badge.svg\" alt=\"Open In Colab\"/></a>"
      ]
    },
    {
      "cell_type": "code",
      "execution_count": null,
      "metadata": {
        "id": "21RCOpMDA4v1"
      },
      "outputs": [],
      "source": [
        "import numpy as np\n",
        "import random\n",
        "import pandas as pd\n",
        "from sklearn.feature_extraction.text import TfidfVectorizer\n",
        "from sklearn.linear_model import LogisticRegression\n",
        "from sklearn.metrics.pairwise import cosine_similarity\n",
        "\n",
        "greet_responses = [\n",
        "    \"Hello! How are you feeling today?\",\n",
        "    \"Hey there 👋, glad you're here!\",\n",
        "    \"Hi! How's your day going?\"\n",
        "]\n",
        "\n",
        "vent_responses = [\n",
        "    \"That sounds tough. I'm here to listen.\",\n",
        "    \"I hear you — thank you for sharing.\",\n",
        "    \"You're not alone in feeling this way.\"\n",
        "]\n",
        "\n",
        "gratitude_responses = [\n",
        "    \"You're welcome! 💙\",\n",
        "    \"Happy to help anytime.\",\n",
        "    \"Glad I could support you!\"\n",
        "]\n",
        "\n",
        "motivating_responses = [\n",
        "    \"You're stronger than you think 🌟\",\n",
        "    \"Every small step forward is progress.\",\n",
        "    \"Keep going — you're doing great!\"\n",
        "]\n",
        "\n",
        "\n",
        "faq_data = {\n",
        "    \"Question\": [\"What is depression?\", \"How to manage stress?\", \"What is anxiety?\"],\n",
        "    \"Answer\": [\"Depression is a mental health condition.\", \"Try deep breathing and exercise.\", \"Anxiety is excessive worry.\"]\n",
        "}\n",
        "\n",
        "faq_df = pd.read_csv(\"Mental_Health_FAQ.csv\")\n",
        "faq_df = faq_df.rename(columns={'Questions': 'Question', 'Answers': 'Answer'})\n",
        "data = {\n",
        "    \"text\": [\"hi\", \"hello\", \"hey\",\n",
        "             \"what is depression\", \"tell me about stress\",\n",
        "             \"i feel sad\", \"i am anxious\", \"i feel lonely\",\n",
        "             \"i want to die\", \"thinking of suicide\"],\n",
        "    \"Intent\": [\"greeting\", \"greeting\", \"greeting\",\n",
        "               \"faq\", \"faq\", \"vent\", \"vent\", \"vent\", \"crisis\", \"crisis\"]\n",
        "}\n",
        "\n",
        "df = pd.DataFrame(data)\n",
        "vector = TfidfVectorizer()\n",
        "x = vector.fit_transform(df[\"text\"])\n",
        "y = df[\"Intent\"]\n",
        "clf = LogisticRegression()\n",
        "clf.fit(x, y)\n",
        "\n",
        "# Create separate vectorizer for FAQ\n",
        "faq_vectorizer = TfidfVectorizer()\n",
        "\n",
        "def get_faq_answer(user_text):\n",
        "    # Convert all FAQ questions into vectors\n",
        "    faq_vectors = faq_vectorizer.fit_transform(faq_df[\"Question\"])\n",
        "    # Vectorize user query\n",
        "    user_vec = faq_vectorizer.transform([user_text])\n",
        "    # Compute similarity\n",
        "    sims = cosine_similarity(user_vec, faq_vectors)\n",
        "    # Find best match\n",
        "    best_idx = sims.argmax()\n",
        "    return faq_df[\"Answer\"].iloc[best_idx]\n",
        "\n",
        "def predict_intent(user_input):\n",
        "    x_test = vector.transform([user_input])\n",
        "    return clf.predict(x_test)[0]\n",
        "\n",
        "print(\"🤖 TheraBot: Mental Health Chatbot (type 'quit' to exit)\")\n",
        "\n",
        "while True:\n",
        "    user_input1 = input(\"You:\")\n",
        "    if user_input1.lower() == \"quit\":\n",
        "        print(\"Bot: You're doing better than you think.\\nEvery small step you take matters, even if it feels tiny right now.\\nKeep going — you have the strength to get through this, and you're not alone.\")\n",
        "        break\n",
        "\n",
        "    intent = predict_intent(user_input1)\n",
        "\n",
        "    if intent == \"greeting\":\n",
        "        print(\"Bot:\", random.choice(greet_responses))\n",
        "    elif intent == \"faq\":\n",
        "        print(\"Bot:\", get_faq_answer(user_input1))\n",
        "    elif intent == \"vent\":\n",
        "        print(\"Bot:\", random.choice(vent_responses))\n",
        "    elif intent == \"crisis\":\n",
        "        print(\"Bot: 🚨 I'm very concerned about you. Please reach out for immediate help:\\n\")\n",
        "        print(\"• 24x7 Toll-Free Mental Health Rehabilitation Helpline Kiran: 1800-599-0019\\n\")\n",
        "        print(\"• National Suicide Prevention Lifeline: 988\\n\")\n",
        "        print(\"• You matter and help is available. Please don't hesitate to call.\\n\")\n",
        "    else:\n",
        "        print(\"Bot:\", random.choice(motivating_responses))\n",
        "\n",
        "print(\"Thanks for sharing with me.\")"
      ]
    },
    {
      "cell_type": "code",
      "source": [],
      "metadata": {
        "id": "6dl0Se4lBL9N"
      },
      "execution_count": null,
      "outputs": []
    }
  ]
}